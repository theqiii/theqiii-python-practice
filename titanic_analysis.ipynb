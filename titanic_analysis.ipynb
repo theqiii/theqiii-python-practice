import pandas as pd
import matplotlib.pyplot as plt

# 读取数据
df = pd.read_csv('titanic.csv')

# 基础分析
print("=== 生还率统计 ===")
print(df['Survived'].value_counts(normalize=True))

# 可视化
plt.figure(figsize=(10,6))
df[df['Survived']==1]['Age'].plot(kind='kde', label='生还者')
df[df['Survived']==0]['Age'].plot(kind='kde', label='遇难者')
plt.legend()
plt.savefig('age_survival.png')  # 保存图表
